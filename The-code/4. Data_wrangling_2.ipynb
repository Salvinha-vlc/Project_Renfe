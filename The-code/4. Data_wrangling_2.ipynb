{
 "cells": [
  {
   "cell_type": "code",
   "execution_count": null,
   "metadata": {},
   "outputs": [],
   "source": [
    "import os\n",
    "import pandas as pd\n",
    "import numpy as np\n",
    "import datetime\n",
    "import time"
   ]
  },
  {
   "cell_type": "code",
   "execution_count": null,
   "metadata": {},
   "outputs": [],
   "source": [
    "renfe = pd.read_csv(\"renfe_clean_1.csv\")"
   ]
  },
  {
   "cell_type": "code",
   "execution_count": null,
   "metadata": {},
   "outputs": [],
   "source": [
    "renfe.head(3)"
   ]
  },
  {
   "cell_type": "markdown",
   "metadata": {},
   "source": [
    "### Just keeping the number of the calculated column days to departure"
   ]
  },
  {
   "cell_type": "code",
   "execution_count": null,
   "metadata": {},
   "outputs": [],
   "source": [
    "renfe[\"days_to_departure\"] = renfe[\"days_to_departure\"].apply(lambda x: x[:2])"
   ]
  },
  {
   "cell_type": "markdown",
   "metadata": {},
   "source": [
    "### Reducing train type categories into 3 big categories"
   ]
  },
  {
   "cell_type": "code",
   "execution_count": null,
   "metadata": {},
   "outputs": [],
   "source": [
    "high_speed = [\"AVE\", \"AVE-TGV\"]\n",
    "long_distance = [\"INTERCITY\", \"ALVIA\", \"TRENHOTEL\", \"AV City\"] \n",
    "regional = [\"MD\", \"LD\", \"EXPRESS\", \"REGIONAL\"]"
   ]
  },
  {
   "cell_type": "code",
   "execution_count": null,
   "metadata": {},
   "outputs": [],
   "source": [
    "def train_class(x):\n",
    "    if x in high_speed:\n",
    "        return \"High_speed\"\n",
    "    elif x in long_distance:\n",
    "        return \"Long_distance\"\n",
    "    else:\n",
    "        return \"Regional\""
   ]
  },
  {
   "cell_type": "code",
   "execution_count": null,
   "metadata": {},
   "outputs": [],
   "source": [
    "renfe[\"train_category\"] = renfe[\"train_type\"].apply(train_class)"
   ]
  },
  {
   "cell_type": "markdown",
   "metadata": {},
   "source": [
    "### Reducing ticket classes into 2 big categories"
   ]
  },
  {
   "cell_type": "code",
   "execution_count": null,
   "metadata": {},
   "outputs": [],
   "source": [
    "renfe.loc[renfe[\"ticket_class\"].str.match(\"Turista\"), \"ticket_class_category\"] = \"Economy\"\n",
    "renfe.loc[renfe[\"ticket_class\"].str.match(\"Preferente\"), \"ticket_class_category\"] = \"First_class\"\n",
    "renfe.loc[renfe[\"ticket_class\"].str.match(\"Clase\"), \"ticket_class_category\"] = \"First_class\""
   ]
  },
  {
   "cell_type": "markdown",
   "metadata": {},
   "source": [
    "### Reducing fare types into 2 big categories"
   ]
  },
  {
   "cell_type": "code",
   "execution_count": null,
   "metadata": {},
   "outputs": [],
   "source": [
    "fixed = [\"Promo\", \"Promo +\", \"Adulto\", \"Mesa\", \"Grupos Ida\"]"
   ]
  },
  {
   "cell_type": "code",
   "execution_count": null,
   "metadata": {},
   "outputs": [],
   "source": [
    "def fare(x):\n",
    "    if x in fixed:\n",
    "        return \"Fixed\"\n",
    "    else:\n",
    "        return \"Flexible\""
   ]
  },
  {
   "cell_type": "code",
   "execution_count": null,
   "metadata": {},
   "outputs": [],
   "source": [
    "renfe[\"fare_category\"] = renfe[\"fare\"].apply(fare)"
   ]
  },
  {
   "cell_type": "markdown",
   "metadata": {},
   "source": [
    "### Creating categories for time variables"
   ]
  },
  {
   "cell_type": "code",
   "execution_count": null,
   "metadata": {},
   "outputs": [],
   "source": [
    "timing = renfe[\"price_check_time\"].apply(lambda x: time.strptime(x, \"%H:%M:%S\"))\n",
    "timing_2 = renfe[\"departure_time\"].apply(lambda x: time.strptime(x, \"%H:%M:%S\"))"
   ]
  },
  {
   "cell_type": "code",
   "execution_count": null,
   "metadata": {},
   "outputs": [],
   "source": [
    "renfe[\"price_check_hour\"] = timing.apply(lambda x: x[3])\n",
    "renfe[\"departure_hour\"] = timing_2.apply(lambda x: x[3])"
   ]
  },
  {
   "cell_type": "code",
   "execution_count": null,
   "metadata": {},
   "outputs": [],
   "source": [
    "def time_window(t):\n",
    "    if t > 2 and t < 6:\n",
    "        return \"Deep night\"\n",
    "    elif t >= 6 and t < 10:\n",
    "        return \"Morning\"\n",
    "    elif t >= 10 and t < 14:\n",
    "        return \"Late_morning\"\n",
    "    elif t >= 14 and t < 18:\n",
    "        return \"Afternoon\"\n",
    "    elif t >= 18 and t < 22:\n",
    "        return \"Evening\"\n",
    "    else:\n",
    "        return \"Night\""
   ]
  },
  {
   "cell_type": "code",
   "execution_count": null,
   "metadata": {},
   "outputs": [],
   "source": [
    "renfe[\"price_check_time_window\"] = renfe[\"price_check_hour\"].apply(time_window)\n",
    "renfe[\"departure_time_window\"] = renfe[\"departure_hour\"].apply(time_window)"
   ]
  },
  {
   "cell_type": "code",
   "execution_count": null,
   "metadata": {},
   "outputs": [],
   "source": [
    "renfe.price_check_time_window.value_counts()"
   ]
  },
  {
   "cell_type": "markdown",
   "metadata": {},
   "source": [
    "### Last categorization adjustments"
   ]
  },
  {
   "cell_type": "code",
   "execution_count": null,
   "metadata": {},
   "outputs": [],
   "source": [
    "weekday = [\"Monday\", \"Tueday\", \"Wednesday\", \"Thursday\", \"Friday\"]"
   ]
  },
  {
   "cell_type": "code",
   "execution_count": null,
   "metadata": {},
   "outputs": [],
   "source": [
    "def day(x):\n",
    "    if x in weekday:\n",
    "        return \"weekday\"\n",
    "    else:\n",
    "        return \"weekend\""
   ]
  },
  {
   "cell_type": "code",
   "execution_count": null,
   "metadata": {},
   "outputs": [],
   "source": [
    "renfe[\"departure_day\"] = renfe[\"departure_weekday\"].apply(day)"
   ]
  },
  {
   "cell_type": "code",
   "execution_count": null,
   "metadata": {},
   "outputs": [],
   "source": [
    "renfe.drop(\"ticket_class\", axis=1, inplace=True)\n",
    "renfe.drop(\"fare\", axis=1, inplace=True)"
   ]
  },
  {
   "cell_type": "code",
   "execution_count": null,
   "metadata": {},
   "outputs": [],
   "source": [
    "renfe.head(3)"
   ]
  },
  {
   "cell_type": "code",
   "execution_count": null,
   "metadata": {},
   "outputs": [],
   "source": [
    "renfe.to_csv(\"../Data/renfe_clean_2.csv\", index=False)"
   ]
  }
 ],
 "metadata": {
  "kernelspec": {
   "display_name": "Python 3",
   "language": "python",
   "name": "python3"
  },
  "language_info": {
   "codemirror_mode": {
    "name": "ipython",
    "version": 3
   },
   "file_extension": ".py",
   "mimetype": "text/x-python",
   "name": "python",
   "nbconvert_exporter": "python",
   "pygments_lexer": "ipython3",
   "version": "3.7.3"
  }
 },
 "nbformat": 4,
 "nbformat_minor": 2
}
