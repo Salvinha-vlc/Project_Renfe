{
 "cells": [
  {
   "cell_type": "code",
   "execution_count": 1,
   "metadata": {},
   "outputs": [],
   "source": [
    "import os\n",
    "import pandas as pd\n",
    "import numpy as np\n",
    "import datetime\n",
    "from datetime import time"
   ]
  },
  {
   "cell_type": "code",
   "execution_count": 2,
   "metadata": {},
   "outputs": [],
   "source": [
    "renfe = pd.read_csv(\"../Data/renfe.csv\")"
   ]
  },
  {
   "cell_type": "markdown",
   "metadata": {},
   "source": [
    "### Renaming columns"
   ]
  },
  {
   "cell_type": "code",
   "execution_count": 3,
   "metadata": {},
   "outputs": [],
   "source": [
    "renfe = renfe.rename(columns={\"insert_date\":\"price_check_datetime\", \"train_class\":\"ticket_class\",\\\n",
    "                              \"start_date\":\"departure_datetime\", \"end_date\":\"arrival_datetime\", \"origin\":\"Origin\",\\\n",
    "                              \"destination\":\"Destination\"})"
   ]
  },
  {
   "cell_type": "markdown",
   "metadata": {},
   "source": [
    "### City codes for origin and destination"
   ]
  },
  {
   "cell_type": "code",
   "execution_count": 4,
   "metadata": {},
   "outputs": [],
   "source": [
    "renfe.loc[renfe[\"Origin\"].str.startswith(\"M\"), \"origin\"] = \"MAD\"\n",
    "renfe.loc[renfe[\"Origin\"].str.startswith(\"B\"), \"origin\"] = \"BAR\"\n",
    "renfe.loc[renfe[\"Origin\"].str.startswith(\"V\"), \"origin\"] = \"VAL\"\n",
    "renfe.loc[renfe[\"Origin\"].str.startswith(\"S\"), \"origin\"] = \"SEV\"\n",
    "renfe.loc[renfe[\"Origin\"].str.startswith(\"P\"), \"origin\"] = \"PON\"\n",
    "\n",
    "renfe.loc[renfe[\"Destination\"].str.startswith(\"M\"), \"destination\"] = \"MAD\"\n",
    "renfe.loc[renfe[\"Destination\"].str.startswith(\"B\"), \"destination\"] = \"BAR\"\n",
    "renfe.loc[renfe[\"Destination\"].str.startswith(\"V\"), \"destination\"] = \"VAL\"\n",
    "renfe.loc[renfe[\"Destination\"].str.startswith(\"S\"), \"destination\"] = \"SEV\"\n",
    "renfe.loc[renfe[\"Destination\"].str.startswith(\"P\"), \"destination\"] = \"PON\""
   ]
  },
  {
   "cell_type": "markdown",
   "metadata": {},
   "source": [
    "### Creating new columns"
   ]
  },
  {
   "cell_type": "code",
   "execution_count": 5,
   "metadata": {},
   "outputs": [],
   "source": [
    "renfe[\"route\"] = renfe[[\"origin\", \"destination\"]].apply(lambda x: \"-\".join(x), axis=1)\n",
    "renfe[\"Abb_departure_date\"] = renfe[\"departure_datetime\"].apply(lambda x: x[5:10])\n",
    "renfe[\"abb_departure_time\"] = renfe[\"departure_datetime\"].apply(lambda x: x[11:16])\n",
    "renfe[\"abb_departure_date\"] = renfe[\"Abb_departure_date\"].replace(r\"(\\d+)-(\\d+)\", r\"\\2-\\1\", regex=True)\n",
    "renfe[\"semi_identifier\"] = renfe[[\"abb_departure_date\", \"abb_departure_time\"]].apply(lambda x: \"_\".join(x), axis=1)"
   ]
  },
  {
   "cell_type": "markdown",
   "metadata": {},
   "source": [
    "### Datetime column converted from string to a datetime format and placed separately"
   ]
  },
  {
   "cell_type": "code",
   "execution_count": 6,
   "metadata": {},
   "outputs": [],
   "source": [
    "renfe[\"price_check_datetime\"] = pd.to_datetime(renfe[\"price_check_datetime\"])\n",
    "renfe[\"departure_datetime\"] = pd.to_datetime(renfe[\"departure_datetime\"])"
   ]
  },
  {
   "cell_type": "code",
   "execution_count": 7,
   "metadata": {},
   "outputs": [],
   "source": [
    "renfe[\"departure_date\"] = renfe.departure_datetime.dt.date\n",
    "renfe[\"departure_time\"] = renfe.departure_datetime.dt.time\n",
    "renfe[\"price_check_date\"] = renfe.price_check_datetime.dt.date\n",
    "renfe[\"price_check_time\"] = renfe.price_check_datetime.dt.time"
   ]
  },
  {
   "cell_type": "markdown",
   "metadata": {},
   "source": [
    "### Creating additional columns now that date & time columns are formatted properly"
   ]
  },
  {
   "cell_type": "code",
   "execution_count": 8,
   "metadata": {},
   "outputs": [],
   "source": [
    "day_of_week={0:\"Monday\", 1:\"Tuesday\", 2:\"Wednesday\", 3:\"Thursday\", 4:\"Friday\", 5:\"Saturday\", 6:\"Sunday\"}\n",
    "\n",
    "renfe[\"departure_weekday\"] = renfe[\"departure_datetime\"].dt.dayofweek.map(day_of_week)\n",
    "renfe[\"price_check_weekday\"] = renfe[\"price_check_datetime\"].dt.dayofweek.map(day_of_week)\n",
    "renfe[\"days_to_departure\"] = renfe[\"departure_date\"] - renfe[\"price_check_date\"]"
   ]
  },
  {
   "cell_type": "markdown",
   "metadata": {},
   "source": [
    "### Dropping unnecessary column"
   ]
  },
  {
   "cell_type": "code",
   "execution_count": 9,
   "metadata": {},
   "outputs": [],
   "source": [
    "renfe.drop(\"Unnamed: 0\", axis=1, inplace=True)\n",
    "renfe.drop(\"Origin\", axis=1, inplace=True)\n",
    "renfe.drop(\"Destination\", axis=1, inplace=True)\n",
    "renfe.drop(\"arrival_datetime\", axis=1, inplace=True)\n",
    "renfe.drop(\"price_check_datetime\", axis=1, inplace=True)\n",
    "renfe.drop(\"departure_datetime\", axis=1, inplace=True)\n",
    "renfe.drop(\"Abb_departure_date\", axis=1, inplace=True)"
   ]
  },
  {
   "cell_type": "markdown",
   "metadata": {},
   "source": [
    "### Changing order of columns"
   ]
  },
  {
   "cell_type": "code",
   "execution_count": 10,
   "metadata": {},
   "outputs": [
    {
     "data": {
      "text/plain": [
       "Index(['train_type', 'price', 'ticket_class', 'fare', 'origin', 'destination',\n",
       "       'route', 'abb_departure_time', 'abb_departure_date', 'semi_identifier',\n",
       "       'departure_date', 'departure_time', 'price_check_date',\n",
       "       'price_check_time', 'departure_weekday', 'price_check_weekday',\n",
       "       'days_to_departure'],\n",
       "      dtype='object')"
      ]
     },
     "execution_count": 10,
     "metadata": {},
     "output_type": "execute_result"
    }
   ],
   "source": [
    "renfe.columns"
   ]
  },
  {
   "cell_type": "code",
   "execution_count": 11,
   "metadata": {},
   "outputs": [],
   "source": [
    "column_order = ['origin', 'destination', 'departure_date', 'departure_time', 'price', 'price_check_date',\n",
    "                'price_check_time', 'train_type', 'ticket_class', 'fare', 'route', 'abb_departure_date',\n",
    "                'abb_departure_time', 'semi_identifier', 'departure_weekday', 'price_check_weekday',\n",
    "                'days_to_departure']\n",
    "\n",
    "renfe = renfe[column_order]"
   ]
  },
  {
   "cell_type": "code",
   "execution_count": 12,
   "metadata": {
    "scrolled": true
   },
   "outputs": [
    {
     "data": {
      "text/html": [
       "<div>\n",
       "<style scoped>\n",
       "    .dataframe tbody tr th:only-of-type {\n",
       "        vertical-align: middle;\n",
       "    }\n",
       "\n",
       "    .dataframe tbody tr th {\n",
       "        vertical-align: top;\n",
       "    }\n",
       "\n",
       "    .dataframe thead th {\n",
       "        text-align: right;\n",
       "    }\n",
       "</style>\n",
       "<table border=\"1\" class=\"dataframe\">\n",
       "  <thead>\n",
       "    <tr style=\"text-align: right;\">\n",
       "      <th></th>\n",
       "      <th>origin</th>\n",
       "      <th>destination</th>\n",
       "      <th>departure_date</th>\n",
       "      <th>departure_time</th>\n",
       "      <th>price</th>\n",
       "      <th>price_check_date</th>\n",
       "      <th>price_check_time</th>\n",
       "      <th>train_type</th>\n",
       "      <th>ticket_class</th>\n",
       "      <th>fare</th>\n",
       "      <th>route</th>\n",
       "      <th>abb_departure_date</th>\n",
       "      <th>abb_departure_time</th>\n",
       "      <th>semi_identifier</th>\n",
       "      <th>departure_weekday</th>\n",
       "      <th>price_check_weekday</th>\n",
       "      <th>days_to_departure</th>\n",
       "    </tr>\n",
       "  </thead>\n",
       "  <tbody>\n",
       "    <tr>\n",
       "      <th>0</th>\n",
       "      <td>MAD</td>\n",
       "      <td>SEV</td>\n",
       "      <td>2019-05-29</td>\n",
       "      <td>06:20:00</td>\n",
       "      <td>38.55</td>\n",
       "      <td>2019-04-19</td>\n",
       "      <td>05:31:43</td>\n",
       "      <td>AV City</td>\n",
       "      <td>Turista</td>\n",
       "      <td>Promo</td>\n",
       "      <td>MAD-SEV</td>\n",
       "      <td>29-05</td>\n",
       "      <td>06:20</td>\n",
       "      <td>29-05_06:20</td>\n",
       "      <td>Wednesday</td>\n",
       "      <td>Friday</td>\n",
       "      <td>40 days</td>\n",
       "    </tr>\n",
       "    <tr>\n",
       "      <th>1</th>\n",
       "      <td>MAD</td>\n",
       "      <td>SEV</td>\n",
       "      <td>2019-05-29</td>\n",
       "      <td>07:00:00</td>\n",
       "      <td>53.40</td>\n",
       "      <td>2019-04-19</td>\n",
       "      <td>05:31:43</td>\n",
       "      <td>AVE</td>\n",
       "      <td>Turista</td>\n",
       "      <td>Promo</td>\n",
       "      <td>MAD-SEV</td>\n",
       "      <td>29-05</td>\n",
       "      <td>07:00</td>\n",
       "      <td>29-05_07:00</td>\n",
       "      <td>Wednesday</td>\n",
       "      <td>Friday</td>\n",
       "      <td>40 days</td>\n",
       "    </tr>\n",
       "    <tr>\n",
       "      <th>2</th>\n",
       "      <td>MAD</td>\n",
       "      <td>SEV</td>\n",
       "      <td>2019-05-29</td>\n",
       "      <td>07:30:00</td>\n",
       "      <td>47.30</td>\n",
       "      <td>2019-04-19</td>\n",
       "      <td>05:31:43</td>\n",
       "      <td>AVE</td>\n",
       "      <td>Turista</td>\n",
       "      <td>Promo</td>\n",
       "      <td>MAD-SEV</td>\n",
       "      <td>29-05</td>\n",
       "      <td>07:30</td>\n",
       "      <td>29-05_07:30</td>\n",
       "      <td>Wednesday</td>\n",
       "      <td>Friday</td>\n",
       "      <td>40 days</td>\n",
       "    </tr>\n",
       "  </tbody>\n",
       "</table>\n",
       "</div>"
      ],
      "text/plain": [
       "  origin destination departure_date departure_time  price price_check_date  \\\n",
       "0    MAD         SEV     2019-05-29       06:20:00  38.55       2019-04-19   \n",
       "1    MAD         SEV     2019-05-29       07:00:00  53.40       2019-04-19   \n",
       "2    MAD         SEV     2019-05-29       07:30:00  47.30       2019-04-19   \n",
       "\n",
       "  price_check_time train_type ticket_class   fare    route abb_departure_date  \\\n",
       "0         05:31:43    AV City      Turista  Promo  MAD-SEV              29-05   \n",
       "1         05:31:43        AVE      Turista  Promo  MAD-SEV              29-05   \n",
       "2         05:31:43        AVE      Turista  Promo  MAD-SEV              29-05   \n",
       "\n",
       "  abb_departure_time semi_identifier departure_weekday price_check_weekday  \\\n",
       "0              06:20     29-05_06:20         Wednesday              Friday   \n",
       "1              07:00     29-05_07:00         Wednesday              Friday   \n",
       "2              07:30     29-05_07:30         Wednesday              Friday   \n",
       "\n",
       "  days_to_departure  \n",
       "0           40 days  \n",
       "1           40 days  \n",
       "2           40 days  "
      ]
     },
     "execution_count": 12,
     "metadata": {},
     "output_type": "execute_result"
    }
   ],
   "source": [
    "renfe.head(3)"
   ]
  },
  {
   "cell_type": "markdown",
   "metadata": {},
   "source": [
    "### dropping invalid rows"
   ]
  },
  {
   "cell_type": "code",
   "execution_count": 13,
   "metadata": {},
   "outputs": [],
   "source": [
    "renfe = renfe[(renfe[\"price_check_date\"] <= renfe[\"departure_date\"])]"
   ]
  },
  {
   "cell_type": "code",
   "execution_count": 14,
   "metadata": {},
   "outputs": [
    {
     "data": {
      "text/plain": [
       "origin                      0\n",
       "destination                 0\n",
       "departure_date              0\n",
       "departure_time              0\n",
       "price                  309982\n",
       "price_check_date            0\n",
       "price_check_time            0\n",
       "train_type                  0\n",
       "ticket_class             9592\n",
       "fare                     9592\n",
       "route                       0\n",
       "abb_departure_date          0\n",
       "abb_departure_time          0\n",
       "semi_identifier             0\n",
       "departure_weekday           0\n",
       "price_check_weekday         0\n",
       "days_to_departure           0\n",
       "dtype: int64"
      ]
     },
     "execution_count": 14,
     "metadata": {},
     "output_type": "execute_result"
    }
   ],
   "source": [
    "renfe.isna().sum()"
   ]
  },
  {
   "cell_type": "markdown",
   "metadata": {},
   "source": [
    "We are going to remove the ones with ticket_class and fare unavailable, since we can't discretionally replace them\n",
    "and we will need values in that variable down the road. Let's leave the NaN values of price for now, since most of them are legit because of the way the web-scrapping was done in the frame of how the dataset is structured."
   ]
  },
  {
   "cell_type": "code",
   "execution_count": 15,
   "metadata": {},
   "outputs": [],
   "source": [
    "nulli = renfe[renfe[\"fare\"].isna()].index"
   ]
  },
  {
   "cell_type": "code",
   "execution_count": 16,
   "metadata": {},
   "outputs": [],
   "source": [
    "renfe = renfe.drop(nulli, axis=0)"
   ]
  },
  {
   "cell_type": "markdown",
   "metadata": {},
   "source": [
    "Creating the same dataframe but just for April departing trains"
   ]
  },
  {
   "cell_type": "code",
   "execution_count": 17,
   "metadata": {},
   "outputs": [],
   "source": [
    "limit_1 = datetime.datetime.strptime('2019-04-01', '%Y-%m-%d').date()"
   ]
  },
  {
   "cell_type": "code",
   "execution_count": 18,
   "metadata": {},
   "outputs": [],
   "source": [
    "limit_2 = datetime.datetime.strptime('2019-05-01', '%Y-%m-%d').date()"
   ]
  },
  {
   "cell_type": "code",
   "execution_count": 19,
   "metadata": {},
   "outputs": [],
   "source": [
    "renfe_apr = renfe[(renfe[\"departure_date\"] < limit_2) & (renfe[\"departure_date\"] >= limit_1)]"
   ]
  },
  {
   "cell_type": "code",
   "execution_count": 20,
   "metadata": {},
   "outputs": [
    {
     "data": {
      "text/html": [
       "<div>\n",
       "<style scoped>\n",
       "    .dataframe tbody tr th:only-of-type {\n",
       "        vertical-align: middle;\n",
       "    }\n",
       "\n",
       "    .dataframe tbody tr th {\n",
       "        vertical-align: top;\n",
       "    }\n",
       "\n",
       "    .dataframe thead th {\n",
       "        text-align: right;\n",
       "    }\n",
       "</style>\n",
       "<table border=\"1\" class=\"dataframe\">\n",
       "  <thead>\n",
       "    <tr style=\"text-align: right;\">\n",
       "      <th></th>\n",
       "      <th>origin</th>\n",
       "      <th>destination</th>\n",
       "      <th>departure_date</th>\n",
       "      <th>departure_time</th>\n",
       "      <th>price</th>\n",
       "      <th>price_check_date</th>\n",
       "      <th>price_check_time</th>\n",
       "      <th>train_type</th>\n",
       "      <th>ticket_class</th>\n",
       "      <th>fare</th>\n",
       "      <th>route</th>\n",
       "      <th>abb_departure_date</th>\n",
       "      <th>abb_departure_time</th>\n",
       "      <th>semi_identifier</th>\n",
       "      <th>departure_weekday</th>\n",
       "      <th>price_check_weekday</th>\n",
       "      <th>days_to_departure</th>\n",
       "    </tr>\n",
       "  </thead>\n",
       "  <tbody>\n",
       "    <tr>\n",
       "      <th>24</th>\n",
       "      <td>MAD</td>\n",
       "      <td>SEV</td>\n",
       "      <td>2019-04-23</td>\n",
       "      <td>06:20:00</td>\n",
       "      <td>43.55</td>\n",
       "      <td>2019-04-19</td>\n",
       "      <td>05:31:54</td>\n",
       "      <td>AV City</td>\n",
       "      <td>Turista</td>\n",
       "      <td>Promo</td>\n",
       "      <td>MAD-SEV</td>\n",
       "      <td>23-04</td>\n",
       "      <td>06:20</td>\n",
       "      <td>23-04_06:20</td>\n",
       "      <td>Tuesday</td>\n",
       "      <td>Friday</td>\n",
       "      <td>4 days</td>\n",
       "    </tr>\n",
       "    <tr>\n",
       "      <th>25</th>\n",
       "      <td>MAD</td>\n",
       "      <td>SEV</td>\n",
       "      <td>2019-04-23</td>\n",
       "      <td>07:00:00</td>\n",
       "      <td>76.30</td>\n",
       "      <td>2019-04-19</td>\n",
       "      <td>05:31:54</td>\n",
       "      <td>AVE</td>\n",
       "      <td>Turista</td>\n",
       "      <td>Flexible</td>\n",
       "      <td>MAD-SEV</td>\n",
       "      <td>23-04</td>\n",
       "      <td>07:00</td>\n",
       "      <td>23-04_07:00</td>\n",
       "      <td>Tuesday</td>\n",
       "      <td>Friday</td>\n",
       "      <td>4 days</td>\n",
       "    </tr>\n",
       "    <tr>\n",
       "      <th>26</th>\n",
       "      <td>MAD</td>\n",
       "      <td>SEV</td>\n",
       "      <td>2019-04-23</td>\n",
       "      <td>07:30:00</td>\n",
       "      <td>76.30</td>\n",
       "      <td>2019-04-19</td>\n",
       "      <td>05:31:54</td>\n",
       "      <td>AVE</td>\n",
       "      <td>Turista</td>\n",
       "      <td>Flexible</td>\n",
       "      <td>MAD-SEV</td>\n",
       "      <td>23-04</td>\n",
       "      <td>07:30</td>\n",
       "      <td>23-04_07:30</td>\n",
       "      <td>Tuesday</td>\n",
       "      <td>Friday</td>\n",
       "      <td>4 days</td>\n",
       "    </tr>\n",
       "  </tbody>\n",
       "</table>\n",
       "</div>"
      ],
      "text/plain": [
       "   origin destination departure_date departure_time  price price_check_date  \\\n",
       "24    MAD         SEV     2019-04-23       06:20:00  43.55       2019-04-19   \n",
       "25    MAD         SEV     2019-04-23       07:00:00  76.30       2019-04-19   \n",
       "26    MAD         SEV     2019-04-23       07:30:00  76.30       2019-04-19   \n",
       "\n",
       "   price_check_time train_type ticket_class      fare    route  \\\n",
       "24         05:31:54    AV City      Turista     Promo  MAD-SEV   \n",
       "25         05:31:54        AVE      Turista  Flexible  MAD-SEV   \n",
       "26         05:31:54        AVE      Turista  Flexible  MAD-SEV   \n",
       "\n",
       "   abb_departure_date abb_departure_time semi_identifier departure_weekday  \\\n",
       "24              23-04              06:20     23-04_06:20           Tuesday   \n",
       "25              23-04              07:00     23-04_07:00           Tuesday   \n",
       "26              23-04              07:30     23-04_07:30           Tuesday   \n",
       "\n",
       "   price_check_weekday days_to_departure  \n",
       "24              Friday            4 days  \n",
       "25              Friday            4 days  \n",
       "26              Friday            4 days  "
      ]
     },
     "execution_count": 20,
     "metadata": {},
     "output_type": "execute_result"
    }
   ],
   "source": [
    "renfe_apr.head(3)"
   ]
  },
  {
   "cell_type": "markdown",
   "metadata": {},
   "source": [
    "### Saving to csv. First version of the renfe data cleant"
   ]
  },
  {
   "cell_type": "code",
   "execution_count": 21,
   "metadata": {},
   "outputs": [],
   "source": [
    "renfe.to_csv(\"../Data/renfe_clean_1.csv\", index=False)\n",
    "renfe_apr.to_csv(\"../Data/renfe_april_clean_1.csv\", index=False)"
   ]
  }
 ],
 "metadata": {
  "kernelspec": {
   "display_name": "Python 3",
   "language": "python",
   "name": "python3"
  },
  "language_info": {
   "codemirror_mode": {
    "name": "ipython",
    "version": 3
   },
   "file_extension": ".py",
   "mimetype": "text/x-python",
   "name": "python",
   "nbconvert_exporter": "python",
   "pygments_lexer": "ipython3",
   "version": "3.7.3"
  }
 },
 "nbformat": 4,
 "nbformat_minor": 2
}
