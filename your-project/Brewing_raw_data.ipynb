{
 "cells": [
  {
   "cell_type": "code",
   "execution_count": 1,
   "metadata": {},
   "outputs": [],
   "source": [
    "import os\n",
    "import pandas as pd\n",
    "import numpy as np\n",
    "import datetime\n",
    "from datetime import time"
   ]
  },
  {
   "cell_type": "code",
   "execution_count": 87,
   "metadata": {},
   "outputs": [],
   "source": [
    "renfe = pd.read_csv(\"../Data/renfe_clean_1.csv\")"
   ]
  },
  {
   "cell_type": "code",
   "execution_count": 3,
   "metadata": {},
   "outputs": [
    {
     "data": {
      "text/html": [
       "<div>\n",
       "<style scoped>\n",
       "    .dataframe tbody tr th:only-of-type {\n",
       "        vertical-align: middle;\n",
       "    }\n",
       "\n",
       "    .dataframe tbody tr th {\n",
       "        vertical-align: top;\n",
       "    }\n",
       "\n",
       "    .dataframe thead th {\n",
       "        text-align: right;\n",
       "    }\n",
       "</style>\n",
       "<table border=\"1\" class=\"dataframe\">\n",
       "  <thead>\n",
       "    <tr style=\"text-align: right;\">\n",
       "      <th></th>\n",
       "      <th>origin</th>\n",
       "      <th>destination</th>\n",
       "      <th>departure_date</th>\n",
       "      <th>departure_time</th>\n",
       "      <th>price</th>\n",
       "      <th>price_check_date</th>\n",
       "      <th>price_check_time</th>\n",
       "      <th>train_type</th>\n",
       "      <th>ticket_class</th>\n",
       "      <th>fare</th>\n",
       "      <th>route</th>\n",
       "      <th>abb_departure_date</th>\n",
       "      <th>abb_departure_time</th>\n",
       "      <th>semi_identifier</th>\n",
       "    </tr>\n",
       "  </thead>\n",
       "  <tbody>\n",
       "    <tr>\n",
       "      <th>0</th>\n",
       "      <td>MAD</td>\n",
       "      <td>SEV</td>\n",
       "      <td>2019-05-29</td>\n",
       "      <td>06:20:00</td>\n",
       "      <td>38.55</td>\n",
       "      <td>2019-04-19</td>\n",
       "      <td>05:31:43</td>\n",
       "      <td>AV City</td>\n",
       "      <td>Turista</td>\n",
       "      <td>Promo</td>\n",
       "      <td>MAD-SEV</td>\n",
       "      <td>29-05</td>\n",
       "      <td>06:20</td>\n",
       "      <td>29-05_06:20</td>\n",
       "    </tr>\n",
       "    <tr>\n",
       "      <th>1</th>\n",
       "      <td>MAD</td>\n",
       "      <td>SEV</td>\n",
       "      <td>2019-05-29</td>\n",
       "      <td>07:00:00</td>\n",
       "      <td>53.40</td>\n",
       "      <td>2019-04-19</td>\n",
       "      <td>05:31:43</td>\n",
       "      <td>AVE</td>\n",
       "      <td>Turista</td>\n",
       "      <td>Promo</td>\n",
       "      <td>MAD-SEV</td>\n",
       "      <td>29-05</td>\n",
       "      <td>07:00</td>\n",
       "      <td>29-05_07:00</td>\n",
       "    </tr>\n",
       "  </tbody>\n",
       "</table>\n",
       "</div>"
      ],
      "text/plain": [
       "  origin destination departure_date departure_time  price price_check_date  \\\n",
       "0    MAD         SEV     2019-05-29       06:20:00  38.55       2019-04-19   \n",
       "1    MAD         SEV     2019-05-29       07:00:00  53.40       2019-04-19   \n",
       "\n",
       "  price_check_time train_type ticket_class   fare    route abb_departure_date  \\\n",
       "0         05:31:43    AV City      Turista  Promo  MAD-SEV              29-05   \n",
       "1         05:31:43        AVE      Turista  Promo  MAD-SEV              29-05   \n",
       "\n",
       "  abb_departure_time semi_identifier  \n",
       "0              06:20     29-05_06:20  \n",
       "1              07:00     29-05_07:00  "
      ]
     },
     "execution_count": 3,
     "metadata": {},
     "output_type": "execute_result"
    }
   ],
   "source": [
    "renfe.head(2)"
   ]
  },
  {
   "cell_type": "markdown",
   "metadata": {},
   "source": [
    "#### Understanding better the dataset. Only common denominator in the renfe's dataset route network is Madrid"
   ]
  },
  {
   "cell_type": "code",
   "execution_count": 88,
   "metadata": {},
   "outputs": [
    {
     "data": {
      "text/html": [
       "<div>\n",
       "<style scoped>\n",
       "    .dataframe tbody tr th:only-of-type {\n",
       "        vertical-align: middle;\n",
       "    }\n",
       "\n",
       "    .dataframe tbody tr th {\n",
       "        vertical-align: top;\n",
       "    }\n",
       "\n",
       "    .dataframe thead th {\n",
       "        text-align: right;\n",
       "    }\n",
       "</style>\n",
       "<table border=\"1\" class=\"dataframe\">\n",
       "  <thead>\n",
       "    <tr style=\"text-align: right;\">\n",
       "      <th></th>\n",
       "      <th>origin</th>\n",
       "      <th>destination</th>\n",
       "      <th>departure_date</th>\n",
       "      <th>departure_time</th>\n",
       "      <th>price</th>\n",
       "      <th>price_check_date</th>\n",
       "      <th>price_check_time</th>\n",
       "      <th>train_type</th>\n",
       "      <th>ticket_class</th>\n",
       "      <th>fare</th>\n",
       "      <th>route</th>\n",
       "      <th>abb_departure_date</th>\n",
       "      <th>abb_departure_time</th>\n",
       "      <th>semi_identifier</th>\n",
       "    </tr>\n",
       "  </thead>\n",
       "  <tbody>\n",
       "  </tbody>\n",
       "</table>\n",
       "</div>"
      ],
      "text/plain": [
       "Empty DataFrame\n",
       "Columns: [origin, destination, departure_date, departure_time, price, price_check_date, price_check_time, train_type, ticket_class, fare, route, abb_departure_date, abb_departure_time, semi_identifier]\n",
       "Index: []"
      ]
     },
     "execution_count": 88,
     "metadata": {},
     "output_type": "execute_result"
    }
   ],
   "source": [
    "renfe[(renfe[\"origin\"]==\"VALENCIA\") & (renfe[\"destination\"]==\"BARCELONA\")].head()"
   ]
  },
  {
   "cell_type": "markdown",
   "metadata": {},
   "source": [
    "#### Checking for strange/unusual departing times"
   ]
  },
  {
   "cell_type": "code",
   "execution_count": 89,
   "metadata": {},
   "outputs": [],
   "source": [
    "tst = renfe[(renfe[\"route\"]==\"MAD-BAR\")]"
   ]
  },
  {
   "cell_type": "code",
   "execution_count": 90,
   "metadata": {},
   "outputs": [
    {
     "data": {
      "text/plain": [
       "06-06_07:15    485\n",
       "07-06_07:15    483\n",
       "03-06_07:15    482\n",
       "04-06_07:15    481\n",
       "05-06_07:15    479\n",
       "01-06_12:30    478\n",
       "01-06_06:20    478\n",
       "01-06_11:30    478\n",
       "01-06_13:25    478\n",
       "01-06_10:30    478\n",
       "01-06_15:30    478\n",
       "01-06_07:30    478\n",
       "01-06_18:30    478\n",
       "01-06_16:30    478\n",
       "01-06_08:30    478\n",
       "01-06_19:30    478\n",
       "01-06_17:30    478\n",
       "01-06_09:30    478\n",
       "18-05_08:30    477\n",
       "18-05_18:30    477\n",
       "18-05_17:30    477\n",
       "18-05_20:30    477\n",
       "18-05_19:30    477\n",
       "18-05_07:30    477\n",
       "18-05_12:30    477\n",
       "18-05_16:30    477\n",
       "18-05_13:25    477\n",
       "18-05_10:30    477\n",
       "18-05_11:30    477\n",
       "18-05_06:20    477\n",
       "              ... \n",
       "07-07_14:30      8\n",
       "07-07_06:20      8\n",
       "31-05_12:40      8\n",
       "07-07_10:30      8\n",
       "07-05_06:45      8\n",
       "12-05_17:10      8\n",
       "07-07_12:30      8\n",
       "21-05_06:20      8\n",
       "23-05_12:40      8\n",
       "07-07_19:30      8\n",
       "07-05_07:40      8\n",
       "14-05_06:20      8\n",
       "24-05_17:10      7\n",
       "30-05_11:55      7\n",
       "28-05_12:40      7\n",
       "24-05_12:40      7\n",
       "09-05_12:40      7\n",
       "09-05_11:55      7\n",
       "10-05_12:40      7\n",
       "02-06_17:10      7\n",
       "28-05_11:55      7\n",
       "26-04_17:10      7\n",
       "30-05_12:40      7\n",
       "03-05_17:10      6\n",
       "19-05_17:10      6\n",
       "30-05_06:20      6\n",
       "05-05_17:10      6\n",
       "12-04_21:25      5\n",
       "10-05_17:10      4\n",
       "06-05_14:10      1\n",
       "Name: semi_identifier, Length: 2342, dtype: int64"
      ]
     },
     "execution_count": 90,
     "metadata": {},
     "output_type": "execute_result"
    }
   ],
   "source": [
    "tst.semi_identifier.value_counts()"
   ]
  },
  {
   "cell_type": "markdown",
   "metadata": {},
   "source": [
    "#### Indeed, most of the less repeated (pricely checked speaking through the web-scrapping procedure) are unusual times, as it can be seen above"
   ]
  },
  {
   "cell_type": "code",
   "execution_count": 92,
   "metadata": {},
   "outputs": [
    {
     "data": {
      "text/plain": [
       "87"
      ]
     },
     "execution_count": 92,
     "metadata": {},
     "output_type": "execute_result"
    }
   ],
   "source": [
    "renfe.departure_date.nunique()"
   ]
  },
  {
   "cell_type": "code",
   "execution_count": 93,
   "metadata": {},
   "outputs": [
    {
     "data": {
      "text/plain": [
       "2566709"
      ]
     },
     "execution_count": 93,
     "metadata": {},
     "output_type": "execute_result"
    }
   ],
   "source": [
    "renfe.route.count()"
   ]
  },
  {
   "cell_type": "markdown",
   "metadata": {},
   "source": [
    "#### Let's just take a small sample from the whole dataset"
   ]
  },
  {
   "cell_type": "code",
   "execution_count": 27,
   "metadata": {},
   "outputs": [],
   "source": [
    "renfe_2 = pd.read_csv(\"../Data/renfe_april_clean_1.csv\")"
   ]
  },
  {
   "cell_type": "code",
   "execution_count": 28,
   "metadata": {},
   "outputs": [
    {
     "data": {
      "text/plain": [
       "486860"
      ]
     },
     "execution_count": 28,
     "metadata": {},
     "output_type": "execute_result"
    }
   ],
   "source": [
    "renfe_2.route.count()"
   ]
  },
  {
   "cell_type": "code",
   "execution_count": 29,
   "metadata": {},
   "outputs": [
    {
     "data": {
      "text/plain": [
       "route\n",
       "BAR-MAD    410\n",
       "MAD-BAR    450\n",
       "MAD-PON     48\n",
       "MAD-SEV    419\n",
       "MAD-VAL    377\n",
       "PON-MAD     84\n",
       "SEV-MAD    411\n",
       "VAL-MAD    311\n",
       "Name: semi_identifier, dtype: int64"
      ]
     },
     "execution_count": 29,
     "metadata": {},
     "output_type": "execute_result"
    }
   ],
   "source": [
    "renfe_2.groupby([\"route\"])[\"semi_identifier\"].nunique()"
   ]
  },
  {
   "cell_type": "code",
   "execution_count": 30,
   "metadata": {},
   "outputs": [],
   "source": [
    "figure_1 = renfe_2.groupby([\"route\"])[\"semi_identifier\"].nunique() / renfe_2.departure_date.nunique()"
   ]
  },
  {
   "cell_type": "code",
   "execution_count": 31,
   "metadata": {},
   "outputs": [
    {
     "data": {
      "text/plain": [
       "19"
      ]
     },
     "execution_count": 31,
     "metadata": {},
     "output_type": "execute_result"
    }
   ],
   "source": [
    "renfe_2.departure_date.nunique()"
   ]
  },
  {
   "cell_type": "code",
   "execution_count": 32,
   "metadata": {},
   "outputs": [
    {
     "data": {
      "text/html": [
       "<div>\n",
       "<style scoped>\n",
       "    .dataframe tbody tr th:only-of-type {\n",
       "        vertical-align: middle;\n",
       "    }\n",
       "\n",
       "    .dataframe tbody tr th {\n",
       "        vertical-align: top;\n",
       "    }\n",
       "\n",
       "    .dataframe thead th {\n",
       "        text-align: right;\n",
       "    }\n",
       "</style>\n",
       "<table border=\"1\" class=\"dataframe\">\n",
       "  <thead>\n",
       "    <tr style=\"text-align: right;\">\n",
       "      <th></th>\n",
       "      <th>semi_identifier</th>\n",
       "    </tr>\n",
       "    <tr>\n",
       "      <th>route</th>\n",
       "      <th></th>\n",
       "    </tr>\n",
       "  </thead>\n",
       "  <tbody>\n",
       "    <tr>\n",
       "      <th>BAR-MAD</th>\n",
       "      <td>21.578947</td>\n",
       "    </tr>\n",
       "    <tr>\n",
       "      <th>MAD-BAR</th>\n",
       "      <td>23.684211</td>\n",
       "    </tr>\n",
       "    <tr>\n",
       "      <th>MAD-PON</th>\n",
       "      <td>2.526316</td>\n",
       "    </tr>\n",
       "    <tr>\n",
       "      <th>MAD-SEV</th>\n",
       "      <td>22.052632</td>\n",
       "    </tr>\n",
       "    <tr>\n",
       "      <th>MAD-VAL</th>\n",
       "      <td>19.842105</td>\n",
       "    </tr>\n",
       "    <tr>\n",
       "      <th>PON-MAD</th>\n",
       "      <td>4.421053</td>\n",
       "    </tr>\n",
       "    <tr>\n",
       "      <th>SEV-MAD</th>\n",
       "      <td>21.631579</td>\n",
       "    </tr>\n",
       "    <tr>\n",
       "      <th>VAL-MAD</th>\n",
       "      <td>16.368421</td>\n",
       "    </tr>\n",
       "  </tbody>\n",
       "</table>\n",
       "</div>"
      ],
      "text/plain": [
       "         semi_identifier\n",
       "route                   \n",
       "BAR-MAD        21.578947\n",
       "MAD-BAR        23.684211\n",
       "MAD-PON         2.526316\n",
       "MAD-SEV        22.052632\n",
       "MAD-VAL        19.842105\n",
       "PON-MAD         4.421053\n",
       "SEV-MAD        21.631579\n",
       "VAL-MAD        16.368421"
      ]
     },
     "execution_count": 32,
     "metadata": {},
     "output_type": "execute_result"
    }
   ],
   "source": [
    "figure_1.to_frame()"
   ]
  },
  {
   "cell_type": "code",
   "execution_count": 33,
   "metadata": {},
   "outputs": [
    {
     "data": {
      "text/plain": [
       "Index(['BAR-MAD', 'MAD-BAR', 'MAD-PON', 'MAD-SEV', 'MAD-VAL', 'PON-MAD',\n",
       "       'SEV-MAD', 'VAL-MAD'],\n",
       "      dtype='object', name='route')"
      ]
     },
     "execution_count": 33,
     "metadata": {},
     "output_type": "execute_result"
    }
   ],
   "source": [
    "figure_1.index"
   ]
  },
  {
   "cell_type": "code",
   "execution_count": 34,
   "metadata": {},
   "outputs": [],
   "source": [
    "figure_1 = figure_1.reindex(['MAD-BAR', 'MAD-PON', 'MAD-SEV', 'MAD-VAL', 'BAR-MAD', 'PON-MAD', 'SEV-MAD', 'VAL-MAD']).to_frame()"
   ]
  },
  {
   "cell_type": "code",
   "execution_count": 36,
   "metadata": {},
   "outputs": [
    {
     "data": {
      "text/html": [
       "<div>\n",
       "<style scoped>\n",
       "    .dataframe tbody tr th:only-of-type {\n",
       "        vertical-align: middle;\n",
       "    }\n",
       "\n",
       "    .dataframe tbody tr th {\n",
       "        vertical-align: top;\n",
       "    }\n",
       "\n",
       "    .dataframe thead th {\n",
       "        text-align: right;\n",
       "    }\n",
       "</style>\n",
       "<table border=\"1\" class=\"dataframe\">\n",
       "  <thead>\n",
       "    <tr style=\"text-align: right;\">\n",
       "      <th></th>\n",
       "      <th>semi_identifier</th>\n",
       "    </tr>\n",
       "    <tr>\n",
       "      <th>route</th>\n",
       "      <th></th>\n",
       "    </tr>\n",
       "  </thead>\n",
       "  <tbody>\n",
       "    <tr>\n",
       "      <th>MAD-BAR</th>\n",
       "      <td>24.0</td>\n",
       "    </tr>\n",
       "    <tr>\n",
       "      <th>MAD-PON</th>\n",
       "      <td>3.0</td>\n",
       "    </tr>\n",
       "    <tr>\n",
       "      <th>MAD-SEV</th>\n",
       "      <td>22.0</td>\n",
       "    </tr>\n",
       "    <tr>\n",
       "      <th>MAD-VAL</th>\n",
       "      <td>20.0</td>\n",
       "    </tr>\n",
       "    <tr>\n",
       "      <th>BAR-MAD</th>\n",
       "      <td>22.0</td>\n",
       "    </tr>\n",
       "    <tr>\n",
       "      <th>PON-MAD</th>\n",
       "      <td>4.0</td>\n",
       "    </tr>\n",
       "    <tr>\n",
       "      <th>SEV-MAD</th>\n",
       "      <td>22.0</td>\n",
       "    </tr>\n",
       "    <tr>\n",
       "      <th>VAL-MAD</th>\n",
       "      <td>16.0</td>\n",
       "    </tr>\n",
       "  </tbody>\n",
       "</table>\n",
       "</div>"
      ],
      "text/plain": [
       "         semi_identifier\n",
       "route                   \n",
       "MAD-BAR             24.0\n",
       "MAD-PON              3.0\n",
       "MAD-SEV             22.0\n",
       "MAD-VAL             20.0\n",
       "BAR-MAD             22.0\n",
       "PON-MAD              4.0\n",
       "SEV-MAD             22.0\n",
       "VAL-MAD             16.0"
      ]
     },
     "execution_count": 36,
     "metadata": {},
     "output_type": "execute_result"
    }
   ],
   "source": [
    "figure_1.round()"
   ]
  },
  {
   "cell_type": "code",
   "execution_count": 42,
   "metadata": {},
   "outputs": [],
   "source": [
    "figure_1 = figure_1.rename(columns={\"semi_identifier\": \"avg_daily_trains\"})"
   ]
  },
  {
   "cell_type": "code",
   "execution_count": 43,
   "metadata": {},
   "outputs": [
    {
     "data": {
      "text/html": [
       "<div>\n",
       "<style scoped>\n",
       "    .dataframe tbody tr th:only-of-type {\n",
       "        vertical-align: middle;\n",
       "    }\n",
       "\n",
       "    .dataframe tbody tr th {\n",
       "        vertical-align: top;\n",
       "    }\n",
       "\n",
       "    .dataframe thead th {\n",
       "        text-align: right;\n",
       "    }\n",
       "</style>\n",
       "<table border=\"1\" class=\"dataframe\">\n",
       "  <thead>\n",
       "    <tr style=\"text-align: right;\">\n",
       "      <th></th>\n",
       "      <th>avg_daily_trains</th>\n",
       "    </tr>\n",
       "    <tr>\n",
       "      <th>route</th>\n",
       "      <th></th>\n",
       "    </tr>\n",
       "  </thead>\n",
       "  <tbody>\n",
       "    <tr>\n",
       "      <th>MAD-BAR</th>\n",
       "      <td>23.684211</td>\n",
       "    </tr>\n",
       "    <tr>\n",
       "      <th>MAD-PON</th>\n",
       "      <td>2.526316</td>\n",
       "    </tr>\n",
       "    <tr>\n",
       "      <th>MAD-SEV</th>\n",
       "      <td>22.052632</td>\n",
       "    </tr>\n",
       "    <tr>\n",
       "      <th>MAD-VAL</th>\n",
       "      <td>19.842105</td>\n",
       "    </tr>\n",
       "    <tr>\n",
       "      <th>BAR-MAD</th>\n",
       "      <td>21.578947</td>\n",
       "    </tr>\n",
       "    <tr>\n",
       "      <th>PON-MAD</th>\n",
       "      <td>4.421053</td>\n",
       "    </tr>\n",
       "    <tr>\n",
       "      <th>SEV-MAD</th>\n",
       "      <td>21.631579</td>\n",
       "    </tr>\n",
       "    <tr>\n",
       "      <th>VAL-MAD</th>\n",
       "      <td>16.368421</td>\n",
       "    </tr>\n",
       "  </tbody>\n",
       "</table>\n",
       "</div>"
      ],
      "text/plain": [
       "         avg_daily_trains\n",
       "route                    \n",
       "MAD-BAR         23.684211\n",
       "MAD-PON          2.526316\n",
       "MAD-SEV         22.052632\n",
       "MAD-VAL         19.842105\n",
       "BAR-MAD         21.578947\n",
       "PON-MAD          4.421053\n",
       "SEV-MAD         21.631579\n",
       "VAL-MAD         16.368421"
      ]
     },
     "execution_count": 43,
     "metadata": {},
     "output_type": "execute_result"
    }
   ],
   "source": [
    "figure_1"
   ]
  },
  {
   "cell_type": "code",
   "execution_count": 44,
   "metadata": {},
   "outputs": [],
   "source": [
    "figure_1.to_csv(\"../Data/renfe_figure_1.csv\")"
   ]
  },
  {
   "cell_type": "code",
   "execution_count": 37,
   "metadata": {},
   "outputs": [],
   "source": [
    "renfe = pd.read_csv(\"../Data/renfe_clean_2.csv\")"
   ]
  },
  {
   "cell_type": "code",
   "execution_count": 38,
   "metadata": {},
   "outputs": [
    {
     "data": {
      "text/html": [
       "<div>\n",
       "<style scoped>\n",
       "    .dataframe tbody tr th:only-of-type {\n",
       "        vertical-align: middle;\n",
       "    }\n",
       "\n",
       "    .dataframe tbody tr th {\n",
       "        vertical-align: top;\n",
       "    }\n",
       "\n",
       "    .dataframe thead th {\n",
       "        text-align: right;\n",
       "    }\n",
       "</style>\n",
       "<table border=\"1\" class=\"dataframe\">\n",
       "  <thead>\n",
       "    <tr style=\"text-align: right;\">\n",
       "      <th></th>\n",
       "      <th>origin</th>\n",
       "      <th>destination</th>\n",
       "      <th>departure_date</th>\n",
       "      <th>departure_time</th>\n",
       "      <th>price</th>\n",
       "      <th>price_check_date</th>\n",
       "      <th>price_check_time</th>\n",
       "      <th>train_type</th>\n",
       "      <th>route</th>\n",
       "      <th>abb_departure_date</th>\n",
       "      <th>...</th>\n",
       "      <th>semi_identifier</th>\n",
       "      <th>departure_weekday</th>\n",
       "      <th>price_check_weekday</th>\n",
       "      <th>days_to_departure</th>\n",
       "      <th>train_category</th>\n",
       "      <th>ticket_class_category</th>\n",
       "      <th>fare_category</th>\n",
       "      <th>price_check_time_window</th>\n",
       "      <th>departure_time_window</th>\n",
       "      <th>departure_day</th>\n",
       "    </tr>\n",
       "  </thead>\n",
       "  <tbody>\n",
       "    <tr>\n",
       "      <th>0</th>\n",
       "      <td>MAD</td>\n",
       "      <td>SEV</td>\n",
       "      <td>2019-05-29</td>\n",
       "      <td>06:20:00</td>\n",
       "      <td>38.55</td>\n",
       "      <td>2019-04-19</td>\n",
       "      <td>05:31:43</td>\n",
       "      <td>AV City</td>\n",
       "      <td>MAD-SEV</td>\n",
       "      <td>29-05</td>\n",
       "      <td>...</td>\n",
       "      <td>29-05_06:20</td>\n",
       "      <td>Wednesday</td>\n",
       "      <td>Friday</td>\n",
       "      <td>40</td>\n",
       "      <td>Long_distance</td>\n",
       "      <td>Economy</td>\n",
       "      <td>Fixed</td>\n",
       "      <td>Deep_night</td>\n",
       "      <td>Morning</td>\n",
       "      <td>weekday</td>\n",
       "    </tr>\n",
       "    <tr>\n",
       "      <th>1</th>\n",
       "      <td>MAD</td>\n",
       "      <td>SEV</td>\n",
       "      <td>2019-05-29</td>\n",
       "      <td>07:00:00</td>\n",
       "      <td>53.40</td>\n",
       "      <td>2019-04-19</td>\n",
       "      <td>05:31:43</td>\n",
       "      <td>AVE</td>\n",
       "      <td>MAD-SEV</td>\n",
       "      <td>29-05</td>\n",
       "      <td>...</td>\n",
       "      <td>29-05_07:00</td>\n",
       "      <td>Wednesday</td>\n",
       "      <td>Friday</td>\n",
       "      <td>40</td>\n",
       "      <td>High_speed</td>\n",
       "      <td>Economy</td>\n",
       "      <td>Fixed</td>\n",
       "      <td>Deep_night</td>\n",
       "      <td>Morning</td>\n",
       "      <td>weekday</td>\n",
       "    </tr>\n",
       "    <tr>\n",
       "      <th>2</th>\n",
       "      <td>MAD</td>\n",
       "      <td>SEV</td>\n",
       "      <td>2019-05-29</td>\n",
       "      <td>07:30:00</td>\n",
       "      <td>47.30</td>\n",
       "      <td>2019-04-19</td>\n",
       "      <td>05:31:43</td>\n",
       "      <td>AVE</td>\n",
       "      <td>MAD-SEV</td>\n",
       "      <td>29-05</td>\n",
       "      <td>...</td>\n",
       "      <td>29-05_07:30</td>\n",
       "      <td>Wednesday</td>\n",
       "      <td>Friday</td>\n",
       "      <td>40</td>\n",
       "      <td>High_speed</td>\n",
       "      <td>Economy</td>\n",
       "      <td>Fixed</td>\n",
       "      <td>Deep_night</td>\n",
       "      <td>Morning</td>\n",
       "      <td>weekday</td>\n",
       "    </tr>\n",
       "  </tbody>\n",
       "</table>\n",
       "<p>3 rows × 21 columns</p>\n",
       "</div>"
      ],
      "text/plain": [
       "  origin destination departure_date departure_time  price price_check_date  \\\n",
       "0    MAD         SEV     2019-05-29       06:20:00  38.55       2019-04-19   \n",
       "1    MAD         SEV     2019-05-29       07:00:00  53.40       2019-04-19   \n",
       "2    MAD         SEV     2019-05-29       07:30:00  47.30       2019-04-19   \n",
       "\n",
       "  price_check_time train_type    route abb_departure_date  ...  \\\n",
       "0         05:31:43    AV City  MAD-SEV              29-05  ...   \n",
       "1         05:31:43        AVE  MAD-SEV              29-05  ...   \n",
       "2         05:31:43        AVE  MAD-SEV              29-05  ...   \n",
       "\n",
       "  semi_identifier departure_weekday price_check_weekday days_to_departure  \\\n",
       "0     29-05_06:20         Wednesday              Friday                40   \n",
       "1     29-05_07:00         Wednesday              Friday                40   \n",
       "2     29-05_07:30         Wednesday              Friday                40   \n",
       "\n",
       "   train_category ticket_class_category fare_category price_check_time_window  \\\n",
       "0   Long_distance               Economy         Fixed              Deep_night   \n",
       "1      High_speed               Economy         Fixed              Deep_night   \n",
       "2      High_speed               Economy         Fixed              Deep_night   \n",
       "\n",
       "  departure_time_window departure_day  \n",
       "0               Morning       weekday  \n",
       "1               Morning       weekday  \n",
       "2               Morning       weekday  \n",
       "\n",
       "[3 rows x 21 columns]"
      ]
     },
     "execution_count": 38,
     "metadata": {},
     "output_type": "execute_result"
    }
   ],
   "source": [
    "renfe.head(3)"
   ]
  },
  {
   "cell_type": "markdown",
   "metadata": {},
   "source": [
    "#### Creating route dataframes for easier manipulation and saving them to csv to use them in further on"
   ]
  },
  {
   "cell_type": "code",
   "execution_count": 39,
   "metadata": {},
   "outputs": [
    {
     "data": {
      "text/plain": [
       "MAD-BAR    478605\n",
       "MAD-SEV    411845\n",
       "BAR-MAD    404947\n",
       "MAD-VAL    398741\n",
       "SEV-MAD    395250\n",
       "VAL-MAD    321958\n",
       "PON-MAD     90476\n",
       "MAD-PON     64887\n",
       "Name: route, dtype: int64"
      ]
     },
     "execution_count": 39,
     "metadata": {},
     "output_type": "execute_result"
    }
   ],
   "source": [
    "renfe.route.value_counts()"
   ]
  },
  {
   "cell_type": "code",
   "execution_count": 40,
   "metadata": {},
   "outputs": [],
   "source": [
    "renfe_MAD_BAR = renfe[renfe[\"route\"] == \"MAD-BAR\"]\n",
    "renfe_MAD_PON = renfe[renfe[\"route\"] == \"MAD-PON\"]\n",
    "renfe_MAD_SEV = renfe[renfe[\"route\"] == \"MAD-SEV\"]\n",
    "renfe_MAD_VAL = renfe[renfe[\"route\"] == \"MAD-VAL\"]\n",
    "renfe_BAR_MAD = renfe[renfe[\"route\"] == \"BAR-MAD\"]\n",
    "renfe_PON_MAD = renfe[renfe[\"route\"] == \"PON-MAD\"]\n",
    "renfe_SEV_MAD = renfe[renfe[\"route\"] == \"SEV-MAD\"]\n",
    "renfe_VAL_MAD = renfe[renfe[\"route\"] == \"VAL-MAD\"]\n"
   ]
  },
  {
   "cell_type": "code",
   "execution_count": 41,
   "metadata": {},
   "outputs": [],
   "source": [
    "renfe_MAD_BAR.to_csv(\"../Data/renfe_MAD_BAR.csv\", index=False)\n",
    "renfe_MAD_PON.to_csv(\"../Data/renfe_MAD_PON.csv\", index=False)\n",
    "renfe_MAD_SEV.to_csv(\"../Data/renfe_MAD_SEV.csv\", index=False)\n",
    "renfe_MAD_VAL.to_csv(\"../Data/renfe_MAD_VAL.csv\", index=False)\n",
    "renfe_BAR_MAD.to_csv(\"../Data/renfe_BAR_MAD.csv\", index=False)\n",
    "renfe_PON_MAD.to_csv(\"../Data/renfe_PON_MAD.csv\", index=False)\n",
    "renfe_SEV_MAD.to_csv(\"../Data/renfe_SEV_MAD.csv\", index=False)\n",
    "renfe_VAL_MAD.to_csv(\"../Data/renfe_VAL_MAD.csv\", index=False)\n"
   ]
  }
 ],
 "metadata": {
  "kernelspec": {
   "display_name": "Python 3",
   "language": "python",
   "name": "python3"
  },
  "language_info": {
   "codemirror_mode": {
    "name": "ipython",
    "version": 3
   },
   "file_extension": ".py",
   "mimetype": "text/x-python",
   "name": "python",
   "nbconvert_exporter": "python",
   "pygments_lexer": "ipython3",
   "version": "3.7.3"
  }
 },
 "nbformat": 4,
 "nbformat_minor": 2
}
